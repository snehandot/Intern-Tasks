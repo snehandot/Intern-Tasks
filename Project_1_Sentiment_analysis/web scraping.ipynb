{
 "cells": [
  {
   "cell_type": "code",
   "execution_count": 39,
   "metadata": {
    "scrolled": true
   },
   "outputs": [
    {
     "name": "stdout",
     "output_type": "stream",
     "text": [
      "Requirement already satisfied: selenium in c:\\users\\smile\\anaconda3\\lib\\site-packages (4.18.1)\n",
      "Requirement already satisfied: urllib3[socks]<3,>=1.26 in c:\\users\\smile\\anaconda3\\lib\\site-packages (from selenium) (1.26.16)\n",
      "Requirement already satisfied: trio~=0.17 in c:\\users\\smile\\anaconda3\\lib\\site-packages (from selenium) (0.24.0)\n",
      "Requirement already satisfied: trio-websocket~=0.9 in c:\\users\\smile\\anaconda3\\lib\\site-packages (from selenium) (0.11.1)\n",
      "Requirement already satisfied: certifi>=2021.10.8 in c:\\users\\smile\\anaconda3\\lib\\site-packages (from selenium) (2023.7.22)\n",
      "Requirement already satisfied: typing_extensions>=4.9.0 in c:\\users\\smile\\anaconda3\\lib\\site-packages (from selenium) (4.9.0)\n",
      "Requirement already satisfied: attrs>=20.1.0 in c:\\users\\smile\\anaconda3\\lib\\site-packages (from trio~=0.17->selenium) (22.1.0)\n",
      "Requirement already satisfied: sortedcontainers in c:\\users\\smile\\anaconda3\\lib\\site-packages (from trio~=0.17->selenium) (2.4.0)\n",
      "Requirement already satisfied: idna in c:\\users\\smile\\anaconda3\\lib\\site-packages (from trio~=0.17->selenium) (3.4)\n",
      "Requirement already satisfied: outcome in c:\\users\\smile\\anaconda3\\lib\\site-packages (from trio~=0.17->selenium) (1.3.0.post0)\n",
      "Requirement already satisfied: sniffio>=1.3.0 in c:\\users\\smile\\anaconda3\\lib\\site-packages (from trio~=0.17->selenium) (1.3.0)\n",
      "Requirement already satisfied: cffi>=1.14 in c:\\users\\smile\\anaconda3\\lib\\site-packages (from trio~=0.17->selenium) (1.15.1)\n",
      "Requirement already satisfied: wsproto>=0.14 in c:\\users\\smile\\anaconda3\\lib\\site-packages (from trio-websocket~=0.9->selenium) (1.2.0)\n",
      "Requirement already satisfied: PySocks!=1.5.7,<2.0,>=1.5.6 in c:\\users\\smile\\anaconda3\\lib\\site-packages (from urllib3[socks]<3,>=1.26->selenium) (1.7.1)\n",
      "Requirement already satisfied: pycparser in c:\\users\\smile\\anaconda3\\lib\\site-packages (from cffi>=1.14->trio~=0.17->selenium) (2.21)\n",
      "Requirement already satisfied: h11<1,>=0.9.0 in c:\\users\\smile\\anaconda3\\lib\\site-packages (from wsproto>=0.14->trio-websocket~=0.9->selenium) (0.14.0)\n"
     ]
    }
   ],
   "source": [
    "!pip install selenium\n",
    "\n",
    "from selenium import webdriver\n",
    "from selenium.webdriver.common.by import By\n",
    "from time import sleep\n",
    "import pandas as pd"
   ]
  },
  {
   "cell_type": "code",
   "execution_count": 52,
   "metadata": {},
   "outputs": [],
   "source": [
    "\n",
    "browser = webdriver.Chrome()"
   ]
  },
  {
   "cell_type": "code",
   "execution_count": 53,
   "metadata": {},
   "outputs": [],
   "source": [
    "\n",
    "browser.get('https://www.flipkart.com/apple-iphone-13-starlight-128-gb/product-reviews/itmc9604f122ae7f?pid=MOBG6VF5ADKHKXFX&lid=LSTMOBG6VF5ADKHKXFXZVXGTL&sortOrder=MOST_HELPFUL&certifiedBuyer=false&aid=overall')"
   ]
  },
  {
   "cell_type": "code",
   "execution_count": 54,
   "metadata": {},
   "outputs": [],
   "source": [
    "browser.maximize_window()"
   ]
  },
  {
   "cell_type": "markdown",
   "metadata": {},
   "source": [
    "## Scrape Products from Flipkart"
   ]
  },
  {
   "cell_type": "code",
   "execution_count": 57,
   "metadata": {
    "scrolled": true
   },
   "outputs": [
    {
     "name": "stdout",
     "output_type": "stream",
     "text": [
      "Scraping page 1\n",
      "Scraping page 2\n",
      "Scraping page 3\n",
      "Scraping page 4\n",
      "Scraping page 5\n",
      "Scraping page 6\n",
      "Scraping page 7\n",
      "Scraping page 8\n",
      "Scraping page 9\n",
      "Scraping page 10\n",
      "Scraping page 11\n",
      "Scraping page 12\n",
      "Scraping page 13\n",
      "Scraping page 14\n",
      "Scraping page 15\n",
      "Scraping page 16\n",
      "Scraping page 17\n",
      "Scraping page 18\n",
      "Scraping page 19\n",
      "Scraping page 20\n",
      "Scraping page 21\n",
      "Scraping page 22\n",
      "Scraping page 23\n",
      "Scraping page 24\n",
      "Scraping page 25\n",
      "Scraping page 26\n",
      "Scraping page 27\n",
      "Scraping page 28\n",
      "Scraping page 29\n",
      "Scraping page 30\n",
      "Scraping page 31\n",
      "Scraping page 32\n",
      "Scraping page 33\n",
      "Scraping page 34\n",
      "Scraping page 35\n",
      "Scraping page 36\n",
      "Scraping page 37\n",
      "Scraping page 38\n",
      "Scraping page 39\n",
      "Scraping page 40\n",
      "Scraping page 41\n",
      "Scraping page 42\n",
      "Scraping page 43\n",
      "Scraping page 44\n",
      "Scraping page 45\n",
      "Scraping page 46\n",
      "Scraping page 47\n",
      "Scraping page 48\n",
      "Scraping page 49\n",
      "Scraping page 50\n",
      "Scraping page 51\n",
      "Scraping page 52\n",
      "Scraping page 53\n",
      "Scraping page 54\n",
      "Scraping page 55\n",
      "Scraping page 56\n",
      "Scraping page 57\n",
      "Scraping page 58\n",
      "Scraping page 59\n",
      "Scraping page 60\n",
      "Scraping page 61\n",
      "Scraping page 62\n",
      "Scraping page 63\n",
      "Scraping page 64\n",
      "Scraping page 65\n",
      "Scraping page 66\n",
      "Scraping page 67\n",
      "Scraping page 68\n",
      "Scraping page 69\n",
      "Scraping page 70\n",
      "Scraping page 71\n",
      "Scraping page 72\n",
      "Scraping page 73\n",
      "Scraping page 74\n",
      "Scraping page 75\n",
      "Scraping page 76\n",
      "Scraping page 77\n",
      "Scraping page 78\n",
      "Scraping page 79\n",
      "Scraping page 80\n",
      "Scraping page 81\n",
      "Scraping page 82\n",
      "Scraping page 83\n",
      "Scraping page 84\n",
      "Scraping page 85\n",
      "Scraping page 86\n",
      "Scraping page 87\n",
      "Scraping page 88\n",
      "Scraping page 89\n",
      "Scraping page 90\n",
      "An error occurred: Message: stale element reference: stale element not found\n",
      "  (Session info: chrome=122.0.6261.70); For documentation on this error, please visit: https://www.selenium.dev/documentation/webdriver/troubleshooting/errors#stale-element-reference-exception\n",
      "Stacktrace:\n",
      "\tGetHandleVerifier [0x00007FF7FF564C82+3505170]\n",
      "\t(No symbol) [0x00007FF7FF190852]\n",
      "\t(No symbol) [0x00007FF7FF044145]\n",
      "\t(No symbol) [0x00007FF7FF0490C1]\n",
      "\t(No symbol) [0x00007FF7FF04B54B]\n",
      "\t(No symbol) [0x00007FF7FF04B610]\n",
      "\t(No symbol) [0x00007FF7FF084F7B]\n",
      "\t(No symbol) [0x00007FF7FF0ABE8A]\n",
      "\t(No symbol) [0x00007FF7FF07F27A]\n",
      "\t(No symbol) [0x00007FF7FF0AC0A0]\n",
      "\t(No symbol) [0x00007FF7FF0C83B2]\n",
      "\t(No symbol) [0x00007FF7FF0ABC33]\n",
      "\t(No symbol) [0x00007FF7FF07D618]\n",
      "\t(No symbol) [0x00007FF7FF07E6B1]\n",
      "\tGetHandleVerifier [0x00007FF7FF5967DD+3708781]\n",
      "\tGetHandleVerifier [0x00007FF7FF5EFC5D+4074477]\n",
      "\tGetHandleVerifier [0x00007FF7FF5E7DDF+4042095]\n",
      "\tGetHandleVerifier [0x00007FF7FF2BA136+708806]\n",
      "\t(No symbol) [0x00007FF7FF19CB0F]\n",
      "\t(No symbol) [0x00007FF7FF197D14]\n",
      "\t(No symbol) [0x00007FF7FF197E6C]\n",
      "\t(No symbol) [0x00007FF7FF1879A4]\n",
      "\tBaseThreadInitThunk [0x00007FFF5BAA257D+29]\n",
      "\tRtlUserThreadStart [0x00007FFF5CFAAA58+40]\n",
      "\n"
     ]
    }
   ],
   "source": [
    "from selenium.webdriver.common.by import By\n",
    "from selenium.webdriver.support.ui import WebDriverWait\n",
    "from selenium.webdriver.support import expected_conditions as EC\n",
    "\n",
    "oneline = []\n",
    "products = []\n",
    "rating = []\n",
    "months = []\n",
    "\n",
    "try:\n",
    "    for i in range(1200):\n",
    "        print('Page', i + 1)\n",
    "\n",
    "        product = browser.find_elements(By.XPATH, \"//div[@class='t-ZTKy']\")\n",
    "        line = browser.find_elements(By.XPATH, \"//p[@class='_2-N8zT']\")\n",
    "        rate = browser.find_elements(By.XPATH, \"//div[@class='_3LWZlK _1BLPMq' or @class='_3LWZlK _32lA32 _1BLPMq' or @class='_3LWZlK _1rdVr6 _1BLPMq']\")\n",
    "        month = browser.find_elements(By.XPATH, \"//p[@class='_2sc7ZR']\")\n",
    "\n",
    "        for p in product:\n",
    "            products.append(p.text.replace(\"\\n\", \"\").replace(\"READ MORE\", \"\"))\n",
    "        for p in line:\n",
    "            oneline.append(p.text)\n",
    "        for p in rate:\n",
    "            rating.append(p.text)\n",
    "        for p in month:\n",
    "            months.append(p.text)\n",
    "\n",
    "        wait = WebDriverWait(browser, 10)  # Adjust the timeout as needed\n",
    "        try:\n",
    "            next_button = wait.until(EC.element_to_be_clickable((By.XPATH, \"//span[text()='Next']\")))\n",
    "            next_button.click()\n",
    "        except TimeoutException:\n",
    "            print(\"Timed out waiting for Next button to be clickable. End of scraping.\")\n",
    "            break\n",
    "        except ElementClickInterceptedException:\n",
    "            print(\"Element click intercepted. Handling overlay...\")\n",
    "            # Add code here to handle overlay or pop-up (close it)\n",
    "            # For example, you can locate and click the close button\n",
    "            # overlay_close_button = browser.find_element(By.XPATH, \"//button[@class='overlay-close']\")\n",
    "            # overlay_close_button.click()\n",
    "\n",
    "            # After handling the overlay, you can retry clicking the \"Next\" button\n",
    "            next_button.click()\n",
    "\n",
    "        sleep(2)\n",
    "\n",
    "except Exception as e:\n",
    "    print(f\"An error occurred: {str(e)}\")\n",
    "finally:\n",
    "    browser.quit()\n"
   ]
  },
  {
   "cell_type": "code",
   "execution_count": 49,
   "metadata": {},
   "outputs": [],
   "source": [
    "df = pd.DataFrame({'First_Expression':oneline,'Review':products,'Rating':rating,'Month':months})"
   ]
  },
  {
   "cell_type": "code",
   "execution_count": 50,
   "metadata": {},
   "outputs": [],
   "source": [
    "csv_file_path = 'csv/group3.csv'\n",
    "df.to_csv(csv_file_path, index=False)"
   ]
  }
 ],
 "metadata": {
  "kernelspec": {
   "display_name": "Python 3 (ipykernel)",
   "language": "python",
   "name": "python3"
  },
  "language_info": {
   "codemirror_mode": {
    "name": "ipython",
    "version": 3
   },
   "file_extension": ".py",
   "mimetype": "text/x-python",
   "name": "python",
   "nbconvert_exporter": "python",
   "pygments_lexer": "ipython3",
   "version": "3.11.5"
  }
 },
 "nbformat": 4,
 "nbformat_minor": 4
}
