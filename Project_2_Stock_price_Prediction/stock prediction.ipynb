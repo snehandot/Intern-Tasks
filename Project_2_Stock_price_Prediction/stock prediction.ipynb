{
  "nbformat": 4,
  "nbformat_minor": 0,
  "metadata": {
    "colab": {
      "provenance": []
    },
    "kernelspec": {
      "name": "python3",
      "display_name": "Python 3"
    },
    "language_info": {
      "name": "python"
    }
  },
  "cells": [
    {
      "cell_type": "code",
      "execution_count": null,
      "metadata": {
        "colab": {
          "base_uri": "https://localhost:8080/"
        },
        "id": "qhovQ_f8GBLy",
        "outputId": "3dcf460c-bc94-42ac-9562-fa37b0ea0b27"
      },
      "outputs": [
        {
          "output_type": "stream",
          "name": "stdout",
          "text": [
            "Requirement already satisfied: yfinance in /usr/local/lib/python3.10/dist-packages (0.2.37)\n",
            "Requirement already satisfied: pandas>=1.3.0 in /usr/local/lib/python3.10/dist-packages (from yfinance) (1.5.3)\n",
            "Requirement already satisfied: numpy>=1.16.5 in /usr/local/lib/python3.10/dist-packages (from yfinance) (1.25.2)\n",
            "Requirement already satisfied: requests>=2.31 in /usr/local/lib/python3.10/dist-packages (from yfinance) (2.31.0)\n",
            "Requirement already satisfied: multitasking>=0.0.7 in /usr/local/lib/python3.10/dist-packages (from yfinance) (0.0.11)\n",
            "Requirement already satisfied: lxml>=4.9.1 in /usr/local/lib/python3.10/dist-packages (from yfinance) (4.9.4)\n",
            "Requirement already satisfied: appdirs>=1.4.4 in /usr/local/lib/python3.10/dist-packages (from yfinance) (1.4.4)\n",
            "Requirement already satisfied: pytz>=2022.5 in /usr/local/lib/python3.10/dist-packages (from yfinance) (2023.4)\n",
            "Requirement already satisfied: frozendict>=2.3.4 in /usr/local/lib/python3.10/dist-packages (from yfinance) (2.4.0)\n",
            "Requirement already satisfied: peewee>=3.16.2 in /usr/local/lib/python3.10/dist-packages (from yfinance) (3.17.1)\n",
            "Requirement already satisfied: beautifulsoup4>=4.11.1 in /usr/local/lib/python3.10/dist-packages (from yfinance) (4.12.3)\n",
            "Requirement already satisfied: html5lib>=1.1 in /usr/local/lib/python3.10/dist-packages (from yfinance) (1.1)\n",
            "Requirement already satisfied: soupsieve>1.2 in /usr/local/lib/python3.10/dist-packages (from beautifulsoup4>=4.11.1->yfinance) (2.5)\n",
            "Requirement already satisfied: six>=1.9 in /usr/local/lib/python3.10/dist-packages (from html5lib>=1.1->yfinance) (1.16.0)\n",
            "Requirement already satisfied: webencodings in /usr/local/lib/python3.10/dist-packages (from html5lib>=1.1->yfinance) (0.5.1)\n",
            "Requirement already satisfied: python-dateutil>=2.8.1 in /usr/local/lib/python3.10/dist-packages (from pandas>=1.3.0->yfinance) (2.8.2)\n",
            "Requirement already satisfied: charset-normalizer<4,>=2 in /usr/local/lib/python3.10/dist-packages (from requests>=2.31->yfinance) (3.3.2)\n",
            "Requirement already satisfied: idna<4,>=2.5 in /usr/local/lib/python3.10/dist-packages (from requests>=2.31->yfinance) (3.6)\n",
            "Requirement already satisfied: urllib3<3,>=1.21.1 in /usr/local/lib/python3.10/dist-packages (from requests>=2.31->yfinance) (2.0.7)\n",
            "Requirement already satisfied: certifi>=2017.4.17 in /usr/local/lib/python3.10/dist-packages (from requests>=2.31->yfinance) (2024.2.2)\n"
          ]
        }
      ],
      "source": [
        "pip install yfinance\n"
      ]
    },
    {
      "cell_type": "code",
      "source": [
        "import yfinance as yf\n",
        "import pandas as pd\n",
        "\n",
        "def get_historical_stock_data(ticker):\n",
        "    try:\n",
        "\n",
        "        stock_data = yf.download(ticker)\n",
        "\n",
        "\n",
        "        print(f\"Historical stock data for {ticker} from earliest available date to current date:\")\n",
        "        print(stock_data)\n",
        "\n",
        "\n",
        "        stock_data.to_csv(f\"{ticker}_historical_data.csv\")\n",
        "\n",
        "    except Exception as e:\n",
        "        print(f\"Error retrieving data for {ticker}: {str(e)}\")\n",
        "\n",
        "get_historical_stock_data(\"TATASTEEL.NS\")\n"
      ],
      "metadata": {
        "colab": {
          "base_uri": "https://localhost:8080/"
        },
        "id": "dZ8Vr-8YJ_E1",
        "outputId": "877f1bfa-c4fa-4945-dad8-ddb0c20d1cc2"
      },
      "execution_count": null,
      "outputs": [
        {
          "output_type": "stream",
          "name": "stderr",
          "text": [
            "\r[*********************100%%**********************]  1 of 1 completed"
          ]
        },
        {
          "output_type": "stream",
          "name": "stdout",
          "text": [
            "Historical stock data for TATASTEEL.NS from earliest available date to current date:\n",
            "                  Open        High         Low       Close   Adj Close  \\\n",
            "Date                                                                     \n",
            "1996-01-01   11.172855   11.214964   11.035300   11.186892    5.308654   \n",
            "1996-01-02   11.172855   11.214964   10.951082   10.979155    5.210076   \n",
            "1996-01-03   10.979155   11.229000   10.951082   10.981962    5.211407   \n",
            "1996-01-04   10.807913   10.807913   10.386825   10.633863    5.046220   \n",
            "1996-01-05   10.504730   10.555260   10.316644   10.423319    4.946307   \n",
            "...                ...         ...         ...         ...         ...   \n",
            "2024-03-01  143.000000  150.649994  143.000000  149.949997  149.949997   \n",
            "2024-03-04  154.899994  154.899994  151.050003  153.100006  153.100006   \n",
            "2024-03-05  153.199997  154.000000  150.750000  151.850006  151.850006   \n",
            "2024-03-06  151.800003  152.649994  147.899994  151.600006  151.600006   \n",
            "2024-03-07  152.399994  159.149994  152.250000  157.250000  157.250000   \n",
            "\n",
            "               Volume  \n",
            "Date                   \n",
            "1996-01-01   10242229  \n",
            "1996-01-02   16954313  \n",
            "1996-01-03   13514114  \n",
            "1996-01-04   34785820  \n",
            "1996-01-05   30138033  \n",
            "...               ...  \n",
            "2024-03-01  123709943  \n",
            "2024-03-04   67577785  \n",
            "2024-03-05   37165490  \n",
            "2024-03-06   51782444  \n",
            "2024-03-07  124780153  \n",
            "\n",
            "[7085 rows x 6 columns]\n"
          ]
        },
        {
          "output_type": "stream",
          "name": "stderr",
          "text": [
            "\n"
          ]
        }
      ]
    },
    {
      "cell_type": "code",
      "source": [
        "\n",
        "df=pd.read_csv(\"/content/TATASTEEL.NS_historical_data.csv\")\n",
        "df"
      ],
      "metadata": {
        "colab": {
          "base_uri": "https://localhost:8080/",
          "height": 423
        },
        "id": "6rb34BrcLyD8",
        "outputId": "37a57fcd-bbd7-4d45-f014-85cfb8ea7e54"
      },
      "execution_count": null,
      "outputs": [
        {
          "output_type": "execute_result",
          "data": {
            "text/plain": [
              "            Date        Open        High         Low       Close   Adj Close  \\\n",
              "0     1996-01-01   11.172855   11.214964   11.035300   11.186892    5.308654   \n",
              "1     1996-01-02   11.172855   11.214964   10.951082   10.979155    5.210076   \n",
              "2     1996-01-03   10.979155   11.229000   10.951082   10.981962    5.211407   \n",
              "3     1996-01-04   10.807913   10.807913   10.386825   10.633863    5.046220   \n",
              "4     1996-01-05   10.504730   10.555260   10.316644   10.423319    4.946307   \n",
              "...          ...         ...         ...         ...         ...         ...   \n",
              "7080  2024-03-01  143.000000  150.649994  143.000000  149.949997  149.949997   \n",
              "7081  2024-03-04  154.899994  154.899994  151.050003  153.100006  153.100006   \n",
              "7082  2024-03-05  153.199997  154.000000  150.750000  151.850006  151.850006   \n",
              "7083  2024-03-06  151.800003  152.649994  147.899994  151.600006  151.600006   \n",
              "7084  2024-03-07  152.399994  159.149994  152.250000  157.250000  157.250000   \n",
              "\n",
              "         Volume  \n",
              "0      10242229  \n",
              "1      16954313  \n",
              "2      13514114  \n",
              "3      34785820  \n",
              "4      30138033  \n",
              "...         ...  \n",
              "7080  123709943  \n",
              "7081   67577785  \n",
              "7082   37165490  \n",
              "7083   51782444  \n",
              "7084  124780153  \n",
              "\n",
              "[7085 rows x 7 columns]"
            ],
            "text/html": [
              "\n",
              "  <div id=\"df-dee7032d-b7b3-44cd-8d6c-93e2b608c744\" class=\"colab-df-container\">\n",
              "    <div>\n",
              "<style scoped>\n",
              "    .dataframe tbody tr th:only-of-type {\n",
              "        vertical-align: middle;\n",
              "    }\n",
              "\n",
              "    .dataframe tbody tr th {\n",
              "        vertical-align: top;\n",
              "    }\n",
              "\n",
              "    .dataframe thead th {\n",
              "        text-align: right;\n",
              "    }\n",
              "</style>\n",
              "<table border=\"1\" class=\"dataframe\">\n",
              "  <thead>\n",
              "    <tr style=\"text-align: right;\">\n",
              "      <th></th>\n",
              "      <th>Date</th>\n",
              "      <th>Open</th>\n",
              "      <th>High</th>\n",
              "      <th>Low</th>\n",
              "      <th>Close</th>\n",
              "      <th>Adj Close</th>\n",
              "      <th>Volume</th>\n",
              "    </tr>\n",
              "  </thead>\n",
              "  <tbody>\n",
              "    <tr>\n",
              "      <th>0</th>\n",
              "      <td>1996-01-01</td>\n",
              "      <td>11.172855</td>\n",
              "      <td>11.214964</td>\n",
              "      <td>11.035300</td>\n",
              "      <td>11.186892</td>\n",
              "      <td>5.308654</td>\n",
              "      <td>10242229</td>\n",
              "    </tr>\n",
              "    <tr>\n",
              "      <th>1</th>\n",
              "      <td>1996-01-02</td>\n",
              "      <td>11.172855</td>\n",
              "      <td>11.214964</td>\n",
              "      <td>10.951082</td>\n",
              "      <td>10.979155</td>\n",
              "      <td>5.210076</td>\n",
              "      <td>16954313</td>\n",
              "    </tr>\n",
              "    <tr>\n",
              "      <th>2</th>\n",
              "      <td>1996-01-03</td>\n",
              "      <td>10.979155</td>\n",
              "      <td>11.229000</td>\n",
              "      <td>10.951082</td>\n",
              "      <td>10.981962</td>\n",
              "      <td>5.211407</td>\n",
              "      <td>13514114</td>\n",
              "    </tr>\n",
              "    <tr>\n",
              "      <th>3</th>\n",
              "      <td>1996-01-04</td>\n",
              "      <td>10.807913</td>\n",
              "      <td>10.807913</td>\n",
              "      <td>10.386825</td>\n",
              "      <td>10.633863</td>\n",
              "      <td>5.046220</td>\n",
              "      <td>34785820</td>\n",
              "    </tr>\n",
              "    <tr>\n",
              "      <th>4</th>\n",
              "      <td>1996-01-05</td>\n",
              "      <td>10.504730</td>\n",
              "      <td>10.555260</td>\n",
              "      <td>10.316644</td>\n",
              "      <td>10.423319</td>\n",
              "      <td>4.946307</td>\n",
              "      <td>30138033</td>\n",
              "    </tr>\n",
              "    <tr>\n",
              "      <th>...</th>\n",
              "      <td>...</td>\n",
              "      <td>...</td>\n",
              "      <td>...</td>\n",
              "      <td>...</td>\n",
              "      <td>...</td>\n",
              "      <td>...</td>\n",
              "      <td>...</td>\n",
              "    </tr>\n",
              "    <tr>\n",
              "      <th>7080</th>\n",
              "      <td>2024-03-01</td>\n",
              "      <td>143.000000</td>\n",
              "      <td>150.649994</td>\n",
              "      <td>143.000000</td>\n",
              "      <td>149.949997</td>\n",
              "      <td>149.949997</td>\n",
              "      <td>123709943</td>\n",
              "    </tr>\n",
              "    <tr>\n",
              "      <th>7081</th>\n",
              "      <td>2024-03-04</td>\n",
              "      <td>154.899994</td>\n",
              "      <td>154.899994</td>\n",
              "      <td>151.050003</td>\n",
              "      <td>153.100006</td>\n",
              "      <td>153.100006</td>\n",
              "      <td>67577785</td>\n",
              "    </tr>\n",
              "    <tr>\n",
              "      <th>7082</th>\n",
              "      <td>2024-03-05</td>\n",
              "      <td>153.199997</td>\n",
              "      <td>154.000000</td>\n",
              "      <td>150.750000</td>\n",
              "      <td>151.850006</td>\n",
              "      <td>151.850006</td>\n",
              "      <td>37165490</td>\n",
              "    </tr>\n",
              "    <tr>\n",
              "      <th>7083</th>\n",
              "      <td>2024-03-06</td>\n",
              "      <td>151.800003</td>\n",
              "      <td>152.649994</td>\n",
              "      <td>147.899994</td>\n",
              "      <td>151.600006</td>\n",
              "      <td>151.600006</td>\n",
              "      <td>51782444</td>\n",
              "    </tr>\n",
              "    <tr>\n",
              "      <th>7084</th>\n",
              "      <td>2024-03-07</td>\n",
              "      <td>152.399994</td>\n",
              "      <td>159.149994</td>\n",
              "      <td>152.250000</td>\n",
              "      <td>157.250000</td>\n",
              "      <td>157.250000</td>\n",
              "      <td>124780153</td>\n",
              "    </tr>\n",
              "  </tbody>\n",
              "</table>\n",
              "<p>7085 rows × 7 columns</p>\n",
              "</div>\n",
              "    <div class=\"colab-df-buttons\">\n",
              "\n",
              "  <div class=\"colab-df-container\">\n",
              "    <button class=\"colab-df-convert\" onclick=\"convertToInteractive('df-dee7032d-b7b3-44cd-8d6c-93e2b608c744')\"\n",
              "            title=\"Convert this dataframe to an interactive table.\"\n",
              "            style=\"display:none;\">\n",
              "\n",
              "  <svg xmlns=\"http://www.w3.org/2000/svg\" height=\"24px\" viewBox=\"0 -960 960 960\">\n",
              "    <path d=\"M120-120v-720h720v720H120Zm60-500h600v-160H180v160Zm220 220h160v-160H400v160Zm0 220h160v-160H400v160ZM180-400h160v-160H180v160Zm440 0h160v-160H620v160ZM180-180h160v-160H180v160Zm440 0h160v-160H620v160Z\"/>\n",
              "  </svg>\n",
              "    </button>\n",
              "\n",
              "  <style>\n",
              "    .colab-df-container {\n",
              "      display:flex;\n",
              "      gap: 12px;\n",
              "    }\n",
              "\n",
              "    .colab-df-convert {\n",
              "      background-color: #E8F0FE;\n",
              "      border: none;\n",
              "      border-radius: 50%;\n",
              "      cursor: pointer;\n",
              "      display: none;\n",
              "      fill: #1967D2;\n",
              "      height: 32px;\n",
              "      padding: 0 0 0 0;\n",
              "      width: 32px;\n",
              "    }\n",
              "\n",
              "    .colab-df-convert:hover {\n",
              "      background-color: #E2EBFA;\n",
              "      box-shadow: 0px 1px 2px rgba(60, 64, 67, 0.3), 0px 1px 3px 1px rgba(60, 64, 67, 0.15);\n",
              "      fill: #174EA6;\n",
              "    }\n",
              "\n",
              "    .colab-df-buttons div {\n",
              "      margin-bottom: 4px;\n",
              "    }\n",
              "\n",
              "    [theme=dark] .colab-df-convert {\n",
              "      background-color: #3B4455;\n",
              "      fill: #D2E3FC;\n",
              "    }\n",
              "\n",
              "    [theme=dark] .colab-df-convert:hover {\n",
              "      background-color: #434B5C;\n",
              "      box-shadow: 0px 1px 3px 1px rgba(0, 0, 0, 0.15);\n",
              "      filter: drop-shadow(0px 1px 2px rgba(0, 0, 0, 0.3));\n",
              "      fill: #FFFFFF;\n",
              "    }\n",
              "  </style>\n",
              "\n",
              "    <script>\n",
              "      const buttonEl =\n",
              "        document.querySelector('#df-dee7032d-b7b3-44cd-8d6c-93e2b608c744 button.colab-df-convert');\n",
              "      buttonEl.style.display =\n",
              "        google.colab.kernel.accessAllowed ? 'block' : 'none';\n",
              "\n",
              "      async function convertToInteractive(key) {\n",
              "        const element = document.querySelector('#df-dee7032d-b7b3-44cd-8d6c-93e2b608c744');\n",
              "        const dataTable =\n",
              "          await google.colab.kernel.invokeFunction('convertToInteractive',\n",
              "                                                    [key], {});\n",
              "        if (!dataTable) return;\n",
              "\n",
              "        const docLinkHtml = 'Like what you see? Visit the ' +\n",
              "          '<a target=\"_blank\" href=https://colab.research.google.com/notebooks/data_table.ipynb>data table notebook</a>'\n",
              "          + ' to learn more about interactive tables.';\n",
              "        element.innerHTML = '';\n",
              "        dataTable['output_type'] = 'display_data';\n",
              "        await google.colab.output.renderOutput(dataTable, element);\n",
              "        const docLink = document.createElement('div');\n",
              "        docLink.innerHTML = docLinkHtml;\n",
              "        element.appendChild(docLink);\n",
              "      }\n",
              "    </script>\n",
              "  </div>\n",
              "\n",
              "\n",
              "<div id=\"df-eaa43e87-8d1e-4e3e-9470-9e6612ae25a0\">\n",
              "  <button class=\"colab-df-quickchart\" onclick=\"quickchart('df-eaa43e87-8d1e-4e3e-9470-9e6612ae25a0')\"\n",
              "            title=\"Suggest charts\"\n",
              "            style=\"display:none;\">\n",
              "\n",
              "<svg xmlns=\"http://www.w3.org/2000/svg\" height=\"24px\"viewBox=\"0 0 24 24\"\n",
              "     width=\"24px\">\n",
              "    <g>\n",
              "        <path d=\"M19 3H5c-1.1 0-2 .9-2 2v14c0 1.1.9 2 2 2h14c1.1 0 2-.9 2-2V5c0-1.1-.9-2-2-2zM9 17H7v-7h2v7zm4 0h-2V7h2v10zm4 0h-2v-4h2v4z\"/>\n",
              "    </g>\n",
              "</svg>\n",
              "  </button>\n",
              "\n",
              "<style>\n",
              "  .colab-df-quickchart {\n",
              "      --bg-color: #E8F0FE;\n",
              "      --fill-color: #1967D2;\n",
              "      --hover-bg-color: #E2EBFA;\n",
              "      --hover-fill-color: #174EA6;\n",
              "      --disabled-fill-color: #AAA;\n",
              "      --disabled-bg-color: #DDD;\n",
              "  }\n",
              "\n",
              "  [theme=dark] .colab-df-quickchart {\n",
              "      --bg-color: #3B4455;\n",
              "      --fill-color: #D2E3FC;\n",
              "      --hover-bg-color: #434B5C;\n",
              "      --hover-fill-color: #FFFFFF;\n",
              "      --disabled-bg-color: #3B4455;\n",
              "      --disabled-fill-color: #666;\n",
              "  }\n",
              "\n",
              "  .colab-df-quickchart {\n",
              "    background-color: var(--bg-color);\n",
              "    border: none;\n",
              "    border-radius: 50%;\n",
              "    cursor: pointer;\n",
              "    display: none;\n",
              "    fill: var(--fill-color);\n",
              "    height: 32px;\n",
              "    padding: 0;\n",
              "    width: 32px;\n",
              "  }\n",
              "\n",
              "  .colab-df-quickchart:hover {\n",
              "    background-color: var(--hover-bg-color);\n",
              "    box-shadow: 0 1px 2px rgba(60, 64, 67, 0.3), 0 1px 3px 1px rgba(60, 64, 67, 0.15);\n",
              "    fill: var(--button-hover-fill-color);\n",
              "  }\n",
              "\n",
              "  .colab-df-quickchart-complete:disabled,\n",
              "  .colab-df-quickchart-complete:disabled:hover {\n",
              "    background-color: var(--disabled-bg-color);\n",
              "    fill: var(--disabled-fill-color);\n",
              "    box-shadow: none;\n",
              "  }\n",
              "\n",
              "  .colab-df-spinner {\n",
              "    border: 2px solid var(--fill-color);\n",
              "    border-color: transparent;\n",
              "    border-bottom-color: var(--fill-color);\n",
              "    animation:\n",
              "      spin 1s steps(1) infinite;\n",
              "  }\n",
              "\n",
              "  @keyframes spin {\n",
              "    0% {\n",
              "      border-color: transparent;\n",
              "      border-bottom-color: var(--fill-color);\n",
              "      border-left-color: var(--fill-color);\n",
              "    }\n",
              "    20% {\n",
              "      border-color: transparent;\n",
              "      border-left-color: var(--fill-color);\n",
              "      border-top-color: var(--fill-color);\n",
              "    }\n",
              "    30% {\n",
              "      border-color: transparent;\n",
              "      border-left-color: var(--fill-color);\n",
              "      border-top-color: var(--fill-color);\n",
              "      border-right-color: var(--fill-color);\n",
              "    }\n",
              "    40% {\n",
              "      border-color: transparent;\n",
              "      border-right-color: var(--fill-color);\n",
              "      border-top-color: var(--fill-color);\n",
              "    }\n",
              "    60% {\n",
              "      border-color: transparent;\n",
              "      border-right-color: var(--fill-color);\n",
              "    }\n",
              "    80% {\n",
              "      border-color: transparent;\n",
              "      border-right-color: var(--fill-color);\n",
              "      border-bottom-color: var(--fill-color);\n",
              "    }\n",
              "    90% {\n",
              "      border-color: transparent;\n",
              "      border-bottom-color: var(--fill-color);\n",
              "    }\n",
              "  }\n",
              "</style>\n",
              "\n",
              "  <script>\n",
              "    async function quickchart(key) {\n",
              "      const quickchartButtonEl =\n",
              "        document.querySelector('#' + key + ' button');\n",
              "      quickchartButtonEl.disabled = true;  // To prevent multiple clicks.\n",
              "      quickchartButtonEl.classList.add('colab-df-spinner');\n",
              "      try {\n",
              "        const charts = await google.colab.kernel.invokeFunction(\n",
              "            'suggestCharts', [key], {});\n",
              "      } catch (error) {\n",
              "        console.error('Error during call to suggestCharts:', error);\n",
              "      }\n",
              "      quickchartButtonEl.classList.remove('colab-df-spinner');\n",
              "      quickchartButtonEl.classList.add('colab-df-quickchart-complete');\n",
              "    }\n",
              "    (() => {\n",
              "      let quickchartButtonEl =\n",
              "        document.querySelector('#df-eaa43e87-8d1e-4e3e-9470-9e6612ae25a0 button');\n",
              "      quickchartButtonEl.style.display =\n",
              "        google.colab.kernel.accessAllowed ? 'block' : 'none';\n",
              "    })();\n",
              "  </script>\n",
              "</div>\n",
              "    </div>\n",
              "  </div>\n"
            ],
            "application/vnd.google.colaboratory.intrinsic+json": {
              "type": "dataframe",
              "variable_name": "df",
              "repr_error": "'str' object has no attribute 'empty'"
            }
          },
          "metadata": {},
          "execution_count": 3
        }
      ]
    },
    {
      "cell_type": "code",
      "source": [
        "pip install tensorflow"
      ],
      "metadata": {
        "colab": {
          "base_uri": "https://localhost:8080/"
        },
        "id": "rVgDvxuDLSzx",
        "outputId": "26981b23-7fd0-470d-c506-6b94621bf7b3"
      },
      "execution_count": null,
      "outputs": [
        {
          "output_type": "stream",
          "name": "stdout",
          "text": [
            "Requirement already satisfied: tensorflow in /usr/local/lib/python3.10/dist-packages (2.15.0)\n",
            "Requirement already satisfied: absl-py>=1.0.0 in /usr/local/lib/python3.10/dist-packages (from tensorflow) (1.4.0)\n",
            "Requirement already satisfied: astunparse>=1.6.0 in /usr/local/lib/python3.10/dist-packages (from tensorflow) (1.6.3)\n",
            "Requirement already satisfied: flatbuffers>=23.5.26 in /usr/local/lib/python3.10/dist-packages (from tensorflow) (23.5.26)\n",
            "Requirement already satisfied: gast!=0.5.0,!=0.5.1,!=0.5.2,>=0.2.1 in /usr/local/lib/python3.10/dist-packages (from tensorflow) (0.5.4)\n",
            "Requirement already satisfied: google-pasta>=0.1.1 in /usr/local/lib/python3.10/dist-packages (from tensorflow) (0.2.0)\n",
            "Requirement already satisfied: h5py>=2.9.0 in /usr/local/lib/python3.10/dist-packages (from tensorflow) (3.9.0)\n",
            "Requirement already satisfied: libclang>=13.0.0 in /usr/local/lib/python3.10/dist-packages (from tensorflow) (16.0.6)\n",
            "Requirement already satisfied: ml-dtypes~=0.2.0 in /usr/local/lib/python3.10/dist-packages (from tensorflow) (0.2.0)\n",
            "Requirement already satisfied: numpy<2.0.0,>=1.23.5 in /usr/local/lib/python3.10/dist-packages (from tensorflow) (1.25.2)\n",
            "Requirement already satisfied: opt-einsum>=2.3.2 in /usr/local/lib/python3.10/dist-packages (from tensorflow) (3.3.0)\n",
            "Requirement already satisfied: packaging in /usr/local/lib/python3.10/dist-packages (from tensorflow) (23.2)\n",
            "Requirement already satisfied: protobuf!=4.21.0,!=4.21.1,!=4.21.2,!=4.21.3,!=4.21.4,!=4.21.5,<5.0.0dev,>=3.20.3 in /usr/local/lib/python3.10/dist-packages (from tensorflow) (3.20.3)\n",
            "Requirement already satisfied: setuptools in /usr/local/lib/python3.10/dist-packages (from tensorflow) (67.7.2)\n",
            "Requirement already satisfied: six>=1.12.0 in /usr/local/lib/python3.10/dist-packages (from tensorflow) (1.16.0)\n",
            "Requirement already satisfied: termcolor>=1.1.0 in /usr/local/lib/python3.10/dist-packages (from tensorflow) (2.4.0)\n",
            "Requirement already satisfied: typing-extensions>=3.6.6 in /usr/local/lib/python3.10/dist-packages (from tensorflow) (4.10.0)\n",
            "Requirement already satisfied: wrapt<1.15,>=1.11.0 in /usr/local/lib/python3.10/dist-packages (from tensorflow) (1.14.1)\n",
            "Requirement already satisfied: tensorflow-io-gcs-filesystem>=0.23.1 in /usr/local/lib/python3.10/dist-packages (from tensorflow) (0.36.0)\n",
            "Requirement already satisfied: grpcio<2.0,>=1.24.3 in /usr/local/lib/python3.10/dist-packages (from tensorflow) (1.62.0)\n",
            "Requirement already satisfied: tensorboard<2.16,>=2.15 in /usr/local/lib/python3.10/dist-packages (from tensorflow) (2.15.2)\n",
            "Requirement already satisfied: tensorflow-estimator<2.16,>=2.15.0 in /usr/local/lib/python3.10/dist-packages (from tensorflow) (2.15.0)\n",
            "Requirement already satisfied: keras<2.16,>=2.15.0 in /usr/local/lib/python3.10/dist-packages (from tensorflow) (2.15.0)\n",
            "Requirement already satisfied: wheel<1.0,>=0.23.0 in /usr/local/lib/python3.10/dist-packages (from astunparse>=1.6.0->tensorflow) (0.42.0)\n",
            "Requirement already satisfied: google-auth<3,>=1.6.3 in /usr/local/lib/python3.10/dist-packages (from tensorboard<2.16,>=2.15->tensorflow) (2.27.0)\n",
            "Requirement already satisfied: google-auth-oauthlib<2,>=0.5 in /usr/local/lib/python3.10/dist-packages (from tensorboard<2.16,>=2.15->tensorflow) (1.2.0)\n",
            "Requirement already satisfied: markdown>=2.6.8 in /usr/local/lib/python3.10/dist-packages (from tensorboard<2.16,>=2.15->tensorflow) (3.5.2)\n",
            "Requirement already satisfied: requests<3,>=2.21.0 in /usr/local/lib/python3.10/dist-packages (from tensorboard<2.16,>=2.15->tensorflow) (2.31.0)\n",
            "Requirement already satisfied: tensorboard-data-server<0.8.0,>=0.7.0 in /usr/local/lib/python3.10/dist-packages (from tensorboard<2.16,>=2.15->tensorflow) (0.7.2)\n",
            "Requirement already satisfied: werkzeug>=1.0.1 in /usr/local/lib/python3.10/dist-packages (from tensorboard<2.16,>=2.15->tensorflow) (3.0.1)\n",
            "Requirement already satisfied: cachetools<6.0,>=2.0.0 in /usr/local/lib/python3.10/dist-packages (from google-auth<3,>=1.6.3->tensorboard<2.16,>=2.15->tensorflow) (5.3.3)\n",
            "Requirement already satisfied: pyasn1-modules>=0.2.1 in /usr/local/lib/python3.10/dist-packages (from google-auth<3,>=1.6.3->tensorboard<2.16,>=2.15->tensorflow) (0.3.0)\n",
            "Requirement already satisfied: rsa<5,>=3.1.4 in /usr/local/lib/python3.10/dist-packages (from google-auth<3,>=1.6.3->tensorboard<2.16,>=2.15->tensorflow) (4.9)\n",
            "Requirement already satisfied: requests-oauthlib>=0.7.0 in /usr/local/lib/python3.10/dist-packages (from google-auth-oauthlib<2,>=0.5->tensorboard<2.16,>=2.15->tensorflow) (1.3.1)\n",
            "Requirement already satisfied: charset-normalizer<4,>=2 in /usr/local/lib/python3.10/dist-packages (from requests<3,>=2.21.0->tensorboard<2.16,>=2.15->tensorflow) (3.3.2)\n",
            "Requirement already satisfied: idna<4,>=2.5 in /usr/local/lib/python3.10/dist-packages (from requests<3,>=2.21.0->tensorboard<2.16,>=2.15->tensorflow) (3.6)\n",
            "Requirement already satisfied: urllib3<3,>=1.21.1 in /usr/local/lib/python3.10/dist-packages (from requests<3,>=2.21.0->tensorboard<2.16,>=2.15->tensorflow) (2.0.7)\n",
            "Requirement already satisfied: certifi>=2017.4.17 in /usr/local/lib/python3.10/dist-packages (from requests<3,>=2.21.0->tensorboard<2.16,>=2.15->tensorflow) (2024.2.2)\n",
            "Requirement already satisfied: MarkupSafe>=2.1.1 in /usr/local/lib/python3.10/dist-packages (from werkzeug>=1.0.1->tensorboard<2.16,>=2.15->tensorflow) (2.1.5)\n",
            "Requirement already satisfied: pyasn1<0.6.0,>=0.4.6 in /usr/local/lib/python3.10/dist-packages (from pyasn1-modules>=0.2.1->google-auth<3,>=1.6.3->tensorboard<2.16,>=2.15->tensorflow) (0.5.1)\n",
            "Requirement already satisfied: oauthlib>=3.0.0 in /usr/local/lib/python3.10/dist-packages (from requests-oauthlib>=0.7.0->google-auth-oauthlib<2,>=0.5->tensorboard<2.16,>=2.15->tensorflow) (3.2.2)\n"
          ]
        }
      ]
    },
    {
      "cell_type": "code",
      "source": [
        "import numpy as np\n",
        "import pandas as pd\n",
        "from sklearn.model_selection import train_test_split\n",
        "from sklearn.preprocessing import MinMaxScaler\n",
        "from sklearn.metrics import mean_squared_error\n",
        "import matplotlib.pyplot as plt\n",
        "from tensorflow.keras.models import Model\n",
        "from tensorflow.keras.layers import Input, Conv1D, MaxPooling1D, Bidirectional, LSTM, Dense, Attention, Concatenate, Flatten"
      ],
      "metadata": {
        "id": "axU-CZ27LwUd"
      },
      "execution_count": null,
      "outputs": []
    },
    {
      "cell_type": "code",
      "source": [
        "# Create sequences for CNN\n",
        "sequence_length = 10\n",
        "X_cnn = []\n",
        "\n",
        "for i in range(len(df) - sequence_length):\n",
        "    X_cnn.append(df['Close'].values[i:i+sequence_length])\n",
        "\n",
        "X_cnn = np.array(X_cnn)"
      ],
      "metadata": {
        "id": "wtWbZhGBMABK"
      },
      "execution_count": null,
      "outputs": []
    },
    {
      "cell_type": "code",
      "source": [
        "# Create sequences for BiLSTM\n",
        "sequence_length_lstm = 10\n",
        "X_lstm = []\n",
        "\n",
        "for i in range(len(df) - sequence_length_lstm):\n",
        "    X_lstm.append(df['Close'].values[i:i+sequence_length_lstm])\n",
        "\n",
        "X_lstm = np.array(X_lstm)"
      ],
      "metadata": {
        "id": "Hv0EjBLLMFjA"
      },
      "execution_count": null,
      "outputs": []
    },
    {
      "cell_type": "code",
      "source": [
        "# Create target variable\n",
        "y = df['Close'][sequence_length_lstm:].values\n",
        "\n",
        "# Check the lengths\n",
        "print(len(X_cnn), len(X_lstm), len(y))\n",
        "\n",
        "# Ensure the lengths are the same\n",
        "min_length = min(len(X_cnn), len(X_lstm), len(y))\n",
        "X_cnn = X_cnn[:min_length]\n",
        "X_lstm = X_lstm[:min_length]\n",
        "y = y[:min_length]\n",
        "\n",
        "# Check the lengths again\n",
        "print(len(X_cnn), len(X_lstm), len(y))\n"
      ],
      "metadata": {
        "colab": {
          "base_uri": "https://localhost:8080/"
        },
        "id": "HVdyOlXGMTp9",
        "outputId": "736a7cec-3ae2-402e-e73c-9308483c95bb"
      },
      "execution_count": null,
      "outputs": [
        {
          "output_type": "stream",
          "name": "stdout",
          "text": [
            "7075 7075 7075\n",
            "7075 7075 7075\n"
          ]
        }
      ]
    },
    {
      "cell_type": "code",
      "source": [
        "\n",
        "# Split the data into training and testing sets\n",
        "cnn_train_size = int(len(X_cnn) * 0.75)\n",
        "lstm_train_size = int(len(X_lstm) * 0.75)\n",
        "\n",
        "X_cnn_train, X_cnn_test = X_cnn[:cnn_train_size], X_cnn[cnn_train_size:]\n",
        "X_lstm_train, X_lstm_test = X_lstm[:lstm_train_size], X_lstm[lstm_train_size:]\n",
        "y_train, y_test = y[:cnn_train_size], y[cnn_train_size:]\n",
        "\n",
        "# Check the lengths again\n",
        "print(len(X_cnn_train), len(X_cnn_test), len(X_lstm_train), len(X_lstm_test), len(y_train), len(y_test))\n"
      ],
      "metadata": {
        "colab": {
          "base_uri": "https://localhost:8080/"
        },
        "id": "MMGNViozMj9d",
        "outputId": "7cbba1f4-69a2-47e9-e339-d083c7c18f6a"
      },
      "execution_count": null,
      "outputs": [
        {
          "output_type": "stream",
          "name": "stdout",
          "text": [
            "5306 1769 5306 1769 5306 1769\n"
          ]
        }
      ]
    },
    {
      "cell_type": "code",
      "source": [
        "# CNN model with two convolutional layers\n",
        "cnn_input = Input(shape=(sequence_length, 1))\n",
        "\n",
        "# First convolutional layer\n",
        "conv1 = Conv1D(32, 3, activation='relu')(cnn_input)\n",
        "maxpool1 = MaxPooling1D(2)(conv1)\n",
        "\n",
        "# Second convolutional layer\n",
        "conv2 = Conv1D(64, 3, activation='relu')(maxpool1)\n",
        "maxpool2 = MaxPooling1D(2)(conv2)\n",
        "\n",
        "flatten_cnn = Flatten()(maxpool2)\n"
      ],
      "metadata": {
        "id": "1zh2t6I-Mj5_"
      },
      "execution_count": null,
      "outputs": []
    },
    {
      "cell_type": "code",
      "source": [
        "# BiLSTM model\n",
        "lstm_input = Input(shape=(sequence_length_lstm, 1))\n",
        "bilstm = Bidirectional(LSTM(64, return_sequences=True))(lstm_input)\n",
        "attention = Attention()([bilstm, bilstm])\n",
        "flatten_lstm = Flatten()(attention)\n"
      ],
      "metadata": {
        "id": "-JjXLQbuM6Ft"
      },
      "execution_count": null,
      "outputs": []
    },
    {
      "cell_type": "code",
      "source": [
        "# Concatenate CNN and BiLSTM outputs\n",
        "merged = Concatenate()([flatten_cnn, flatten_lstm])\n",
        "\n",
        "# Dense layers for prediction\n",
        "dense1 = Dense(64, activation='relu')(merged)\n",
        "output = Dense(1, activation='linear')(dense1)\n",
        "\n",
        "# Combined model\n",
        "model = Model(inputs=[cnn_input, lstm_input], outputs=output)\n",
        "\n",
        "# Compile the model\n",
        "model.compile(optimizer='adam', loss='mean_squared_error')\n"
      ],
      "metadata": {
        "id": "-suea8H9NFtN"
      },
      "execution_count": null,
      "outputs": []
    },
    {
      "cell_type": "code",
      "source": [
        "# Train the model\n",
        "history = model.fit(\n",
        "    [X_cnn_train, X_lstm_train], y_train,\n",
        "    epochs=10, batch_size=32, validation_split=0.2, verbose=1\n",
        ")\n"
      ],
      "metadata": {
        "colab": {
          "base_uri": "https://localhost:8080/"
        },
        "id": "TwRaDHVDNebv",
        "outputId": "5cca4188-37f9-4b48-d0e3-93aac8d2e3f4"
      },
      "execution_count": null,
      "outputs": [
        {
          "output_type": "stream",
          "name": "stdout",
          "text": [
            "Epoch 1/10\n",
            "133/133 [==============================] - 9s 35ms/step - loss: 85.4095 - val_loss: 2.6676\n",
            "Epoch 2/10\n",
            "133/133 [==============================] - 2s 17ms/step - loss: 30.7239 - val_loss: 3.3220\n",
            "Epoch 3/10\n",
            "133/133 [==============================] - 3s 19ms/step - loss: 30.5903 - val_loss: 1.9727\n",
            "Epoch 4/10\n",
            "133/133 [==============================] - 2s 17ms/step - loss: 30.1043 - val_loss: 5.1802\n",
            "Epoch 5/10\n",
            "133/133 [==============================] - 3s 19ms/step - loss: 30.2834 - val_loss: 3.6548\n",
            "Epoch 6/10\n",
            "133/133 [==============================] - 3s 26ms/step - loss: 30.0235 - val_loss: 2.6811\n",
            "Epoch 7/10\n",
            "133/133 [==============================] - 3s 20ms/step - loss: 30.3845 - val_loss: 2.0532\n",
            "Epoch 8/10\n",
            "133/133 [==============================] - 2s 18ms/step - loss: 29.4156 - val_loss: 2.3060\n",
            "Epoch 9/10\n",
            "133/133 [==============================] - 2s 18ms/step - loss: 29.0032 - val_loss: 3.1371\n",
            "Epoch 10/10\n",
            "133/133 [==============================] - 3s 20ms/step - loss: 29.4035 - val_loss: 1.5527\n"
          ]
        }
      ]
    },
    {
      "cell_type": "code",
      "source": [
        "# Evaluate the model on the test set\n",
        "y_pred = model.predict([X_cnn_test, X_lstm_test])\n",
        "\n",
        "\n",
        "\n",
        "# Calculate RMSE (Root Mean Squared Error)\n",
        "rmse = np.sqrt(mean_squared_error(y_test, y_pred))\n",
        "print(f\"Root Mean Squared Error (RMSE): {rmse}\")\n",
        "\n",
        "# Plot the training and validation loss over epochs\n",
        "plt.plot(history.history['loss'], label='Training Loss')\n",
        "plt.plot(history.history['val_loss'], label='Validation Loss')\n",
        "plt.title('Model Loss')\n",
        "plt.xlabel('Epochs')\n",
        "plt.ylabel('Loss')\n",
        "plt.legend()\n",
        "plt.show()\n"
      ],
      "metadata": {
        "colab": {
          "base_uri": "https://localhost:8080/",
          "height": 507
        },
        "id": "jiq3M_V3LNa9",
        "outputId": "5ca7e589-5732-409e-8ff8-a6d792205cb9"
      },
      "execution_count": null,
      "outputs": [
        {
          "output_type": "stream",
          "name": "stdout",
          "text": [
            "56/56 [==============================] - 1s 6ms/step\n",
            "Root Mean Squared Error (RMSE): 4.766835520719022\n"
          ]
        },
        {
          "output_type": "display_data",
          "data": {
            "text/plain": [
              "<Figure size 640x480 with 1 Axes>"
            ],
            "image/png": "[encoded data removed]"
          },
          "metadata": {}
        }
      ]
    },
    {
      "cell_type": "code",
      "source": [
        "from sklearn.metrics import mean_squared_error, r2_score\n",
        "import matplotlib.pyplot as plt\n",
        "\n",
        "y_pred = model.predict([X_cnn_test, X_lstm_test])\n",
        "\n",
        "\n",
        "\n",
        "mse = mean_squared_error(y_test, y_pred)\n",
        "r2 = r2_score(y_test, y_pred)\n",
        "\n",
        "print(f\"Mean Squared Error: {mse}\")\n",
        "print(f\"R-squared: {r2}\")\n",
        "\n",
        "plt.figure(figsize=(12, 6))\n",
        "plt.plot(y_test, label='Actual')\n",
        "plt.plot(y_pred, label='Predicted')\n",
        "plt.title('Stock Price Prediction')\n",
        "plt.xlabel('Time')\n",
        "plt.ylabel('Stock Price')\n",
        "plt.legend()\n",
        "plt.show()\n"
      ],
      "metadata": {
        "id": "2SchG3LfRzDm",
        "colab": {
          "base_uri": "https://localhost:8080/",
          "height": 616
        },
        "outputId": "58154e9d-ce11-4d01-f42f-03fe7d62a207"
      },
      "execution_count": null,
      "outputs": [
        {
          "output_type": "stream",
          "name": "stdout",
          "text": [
            "56/56 [==============================] - 1s 9ms/step\n",
            "Mean Squared Error: 22.72272088158859\n",
            "R-squared: 0.9816982537939356\n"
          ]
        },
        {
          "output_type": "display_data",
          "data": {
            "text/plain": [
              "<Figure size 1200x600 with 1 Axes>"
            ],
            "image/png": "[encoded data removed]"
          },
          "metadata": {}
        }
      ]
    },
    {
      "cell_type": "code",
      "source": [
        "model.save('D:\\\\NIO Intern\\\\stock\\\\model.h5')"
      ],
      "metadata": {
        "id": "KNGt0eUrQkCc",
        "colab": {
          "base_uri": "https://localhost:8080/"
        },
        "outputId": "0c58b903-a65c-4c3b-822e-bdb1b69e15d7"
      },
      "execution_count": null,
      "outputs": [
        {
          "output_type": "stream",
          "name": "stderr",
          "text": [
            "/usr/local/lib/python3.10/dist-packages/keras/src/engine/training.py:3103: UserWarning: You are saving your model as an HDF5 file via `model.save()`. This file format is considered legacy. We recommend using instead the native Keras format, e.g. `model.save('my_model.keras')`.\n",
            "  saving_api.save_model(\n"
          ]
        }
      ]
    },
    {
      "cell_type": "code",
      "source": [
        "import numpy as np\n",
        "import pandas as pd\n",
        "from sklearn.preprocessing import MinMaxScaler\n",
        "from tensorflow.keras.models import Model\n",
        "from tensorflow.keras.layers import Input, Conv1D, MaxPooling1D, Bidirectional, LSTM, Dense, Attention, Concatenate, Flatten\n",
        "\n",
        "\n",
        "sequence_length_lstm = 10\n",
        "\n",
        "input_sequence = df['Close'].values[-sequence_length_lstm:]\n",
        "input_sequence = np.reshape(input_sequence, (1, sequence_length_lstm, 1))\n",
        "\n",
        "# Load the trained model\n",
        "model = Model(inputs=[cnn_input, lstm_input], outputs=output)\n",
        "model.load_weights('D:\\\\NIO Intern\\\\stock\\\\model.h5')\n",
        "\n",
        "num_future_days = 30\n",
        "\n",
        "predicted_values = []\n",
        "for _ in range(num_future_days):\n",
        "\n",
        "    predicted = model.predict([input_sequence, input_sequence])\n",
        "\n",
        "    predicted_values.append(predicted[0][0])\n",
        "\n",
        "    input_sequence = np.roll(input_sequence, -1, axis=1)\n",
        "    input_sequence[0, -1, 0] = predicted[0, 0]\n",
        "\n",
        "future_dates = pd.date_range(start=df['Date'].iloc[-1], periods=num_future_days + 1, freq='B')[1:]\n",
        "predicted_df = pd.DataFrame({'Date': future_dates, 'Predicted_Close': predicted_values})\n",
        "\n",
        "predicted_df.to_csv('D:\\\\NIO Intern\\\\stock\\\\predicted_values.csv', index=False)\n",
        "\n",
        "print(predicted_df)\n",
        "\n"
      ],
      "metadata": {
        "colab": {
          "base_uri": "https://localhost:8080/"
        },
        "id": "QNWvWkQLKUNZ",
        "outputId": "8db9570e-3f61-453b-cce9-2e7edd948320"
      },
      "execution_count": null,
      "outputs": [
        {
          "output_type": "stream",
          "name": "stdout",
          "text": [
            "1/1 [==============================] - 1s 841ms/step\n",
            "1/1 [==============================] - 0s 26ms/step\n",
            "1/1 [==============================] - 0s 23ms/step\n",
            "1/1 [==============================] - 0s 23ms/step\n",
            "1/1 [==============================] - 0s 23ms/step\n",
            "1/1 [==============================] - 0s 22ms/step\n",
            "1/1 [==============================] - 0s 22ms/step\n",
            "1/1 [==============================] - 0s 23ms/step\n",
            "1/1 [==============================] - 0s 22ms/step\n",
            "1/1 [==============================] - 0s 23ms/step\n",
            "1/1 [==============================] - 0s 22ms/step\n",
            "1/1 [==============================] - 0s 23ms/step\n",
            "1/1 [==============================] - 0s 29ms/step\n",
            "1/1 [==============================] - 0s 24ms/step\n",
            "1/1 [==============================] - 0s 23ms/step\n",
            "1/1 [==============================] - 0s 23ms/step\n",
            "1/1 [==============================] - 0s 22ms/step\n",
            "1/1 [==============================] - 0s 23ms/step\n",
            "1/1 [==============================] - 0s 23ms/step\n",
            "1/1 [==============================] - 0s 24ms/step\n",
            "1/1 [==============================] - 0s 23ms/step\n",
            "1/1 [==============================] - 0s 25ms/step\n",
            "1/1 [==============================] - 0s 26ms/step\n",
            "1/1 [==============================] - 0s 25ms/step\n",
            "1/1 [==============================] - 0s 30ms/step\n",
            "1/1 [==============================] - 0s 22ms/step\n",
            "1/1 [==============================] - 0s 26ms/step\n",
            "1/1 [==============================] - 0s 24ms/step\n",
            "1/1 [==============================] - 0s 26ms/step\n",
            "1/1 [==============================] - 0s 22ms/step\n",
            "         Date  Predicted_Close\n",
            "0  2024-03-08       142.714325\n",
            "1  2024-03-11       142.653320\n",
            "2  2024-03-12       139.651596\n",
            "3  2024-03-13       138.937988\n",
            "4  2024-03-14       135.874985\n",
            "5  2024-03-15       134.088150\n",
            "6  2024-03-18       130.221924\n",
            "7  2024-03-19       129.122528\n",
            "8  2024-03-20       127.250137\n",
            "9  2024-03-21       125.665703\n",
            "10 2024-03-22       123.390587\n",
            "11 2024-03-25       121.602417\n",
            "12 2024-03-26       119.860870\n",
            "13 2024-03-27       118.556656\n",
            "14 2024-03-28       116.959686\n",
            "15 2024-03-29       115.423363\n",
            "16 2024-04-01       113.880608\n",
            "17 2024-04-02       112.535393\n",
            "18 2024-04-03       111.252991\n",
            "19 2024-04-04       110.011070\n",
            "20 2024-04-05       108.721352\n",
            "21 2024-04-08       107.493523\n",
            "22 2024-04-09       106.340996\n",
            "23 2024-04-10       105.252151\n",
            "24 2024-04-11       104.181625\n",
            "25 2024-04-12       103.128822\n",
            "26 2024-04-15       102.101105\n",
            "27 2024-04-16       101.121422\n",
            "28 2024-04-17       100.183334\n",
            "29 2024-04-18        99.270561\n"
          ]
        }
      ]
    }
  ]
}